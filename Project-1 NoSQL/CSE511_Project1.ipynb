{
 "cells": [
  {
   "cell_type": "code",
   "execution_count": null,
   "metadata": {},
   "outputs": [],
   "source": [
    "'''\n",
    "CSE 511: Data Processing at Scale\n",
    "Fall 2023\n",
    "\n",
    "Project 1 Submission\n",
    "\n",
    "Author: Rohan Sambidi\n",
    "'''"
   ]
  },
  {
   "cell_type": "code",
   "execution_count": 1,
   "metadata": {
    "tags": []
   },
   "outputs": [],
   "source": [
    "from unqlite import UnQLite\n",
    "\n",
    "db = UnQLite('sample.db')\n",
    "data = db.collection('data')"
   ]
  },
  {
   "cell_type": "code",
   "execution_count": 2,
   "metadata": {},
   "outputs": [
    {
     "data": {
      "text/plain": [
       "{'business_id': 'MPyxaNVuWlAQqJ0iKV5rQw',\n",
       " 'type': 'business',\n",
       " 'state': 'AZ',\n",
       " 'latitude': 33.3482589,\n",
       " 'name': \"VinciTorio's Restaurant\",\n",
       " 'full_address': '1835 E Elliot Rd, Ste C109, Tempe, AZ 85284',\n",
       " 'categories': ['Restaurants', 'Buffets', 'Italian'],\n",
       " 'open': True,\n",
       " 'stars': 4,\n",
       " 'city': 'Tempe',\n",
       " 'neighborhoods': [],\n",
       " '__id': 0,\n",
       " 'review_count': 122,\n",
       " 'longitude': -111.9088346}"
      ]
     },
     "execution_count": 2,
     "metadata": {},
     "output_type": "execute_result"
    }
   ],
   "source": [
    "data.fetch(0) # Get the first entry from the data to understand the structure and contents"
   ]
  },
  {
   "cell_type": "code",
   "execution_count": 3,
   "metadata": {
    "tags": []
   },
   "outputs": [],
   "source": [
    "# Graded Cell, PartID: o1flK\n",
    "\n",
    "import math # Math library is used for calculating the distance\n",
    "\n",
    "def FindBusinessBasedOnCity(cityToSearch, saveLocation1, collection):\n",
    "    result = [] # Create a list to store the outputs\n",
    "    \n",
    "    for i in collection.all(): # For every entry in the collection, check if the city matches the given city name\n",
    "        if i['city'] == cityToSearch:\n",
    "            result.append(\"{}${}${}${}\".format(i['name'], i['full_address'], i['city'], i['state'])) # If a match is found, retrive the data in desired format\n",
    "    \n",
    "    f = open(saveLocation1, 'w') # Create a file to write the retrieved data\n",
    "    for i in result: # Iterate over the output list and write the data to the file\n",
    "        f.write(i)\n",
    "        f.write('\\n')\n",
    "    f.close()\n",
    "\n",
    "\n",
    "def FindBusinessBasedOnLocation(categoriesToSearch, myLocation, maxDistance, saveLocation2, collection):\n",
    "    result = [] # Create a list to store the outputs\n",
    "    \n",
    "    R = 3959\n",
    "    lat1 = math.radians(myLocation[0]) # Convert the coordinates into radians\n",
    "    lon1 = math.radians(myLocation[1])\n",
    "    \n",
    "    for i in collection.all(): # For every entry in the collection, check if the category matches the given category list\n",
    "        if any(x in i['categories'] for x in categoriesToSearch): # If a match is found, calculate the distance using the haversine formula\n",
    "            lat2 = math.radians(i['latitude'])\n",
    "            lon2 = math.radians(i['longitude'])\n",
    "\n",
    "            d_phi = lat2 - lat1\n",
    "            d_lambda = lon2 - lon1\n",
    "\n",
    "            a = math.sin(d_phi/2)**2 + math.cos(lat1) * math.cos(lat2) * math.sin(d_lambda/2)**2\n",
    "            c = 2 * math.atan2(math.sqrt(a), math.sqrt(1-a)) \n",
    "\n",
    "            d = R*c # Compute the distance\n",
    "\n",
    "            if d <= maxDistance: # If the distance is within the given range, append the data to the output list\n",
    "                result.append(i['name'])\n",
    "        \n",
    "    f = open(saveLocation2, 'w') # Create a file to write the retrieved data\n",
    "    for i in result:  # Iterate over the output list and write the data to the file\n",
    "        f.write(i)\n",
    "        f.write('\\n')\n",
    "    f.close()"
   ]
  },
  {
   "cell_type": "code",
   "execution_count": 11,
   "metadata": {},
   "outputs": [
    {
     "name": "stdout",
     "output_type": "stream",
     "text": [
      "Correct! You FindBusinessByCity function passes these test cases. This does not cover all possible test edge cases, however, so make sure that your function covers them before submitting!\n"
     ]
    }
   ],
   "source": [
    "# Testing FindBusinessBasedOnCity function\n",
    "\n",
    "true_results = [\"VinciTorio's Restaurant$1835 E Elliot Rd, Ste C109, Tempe, AZ 85284$Tempe$AZ\", \"P.croissants$7520 S Rural Rd, Tempe, AZ 85283$Tempe$AZ\", \"Salt Creek Home$1725 W Ruby Dr, Tempe, AZ 85284$Tempe$AZ\"]\n",
    "\n",
    "try:\n",
    "    FindBusinessBasedOnCity('Tempe', 'output_city.txt', data)\n",
    "except NameError as e:\n",
    "    print ('The FindBusinessBasedOnCity function is not defined! You must run the cell containing the function before running this evaluation cell.')\n",
    "except TypeError as e:\n",
    "    print (\"The FindBusinessBasedOnCity function is supposed to accept three arguments. Yours does not!\")\n",
    "    \n",
    "try:\n",
    "    opf = open('output_city.txt', 'r')\n",
    "except FileNotFoundError as e:\n",
    "    print (\"The FindBusinessBasedOnCity function does not write data to the correct location.\")\n",
    "    \n",
    "lines = opf.readlines()\n",
    "if len(lines) != 3:\n",
    "    print (\"The FindBusinessBasedOnCity function does not find the correct number of results, should be 3.\")\n",
    "    \n",
    "lines = [line.strip() for line in lines]\n",
    "if sorted(lines) == sorted(true_results):\n",
    "    print (\"Correct! You FindBusinessByCity function passes these test cases. This does not cover all possible test edge cases, however, so make sure that your function covers them before submitting!\")"
   ]
  },
  {
   "cell_type": "code",
   "execution_count": 5,
   "metadata": {},
   "outputs": [
    {
     "name": "stdout",
     "output_type": "stream",
     "text": [
      "Correct! You FindBusinessByCity function passes these test cases. This does not cover all possible test edge cases, however, so make sure that your function covers them before submitting!\n"
     ]
    }
   ],
   "source": [
    "# Additional test case 1\n",
    "\n",
    "true_results =['3 Palms$7707 E McDowell Rd, Scottsdale, AZ 85257$Scottsdale$AZ', \"Bob's Bike Shop$1608 N Miller Rd, Scottsdale, AZ 85257$Scottsdale$AZ\", 'Ronan & Tagart, PLC$8980 E Raintree Dr, Ste 120, Scottsdale, AZ 85260$Scottsdale$AZ', \"Sangria's$7700 E McCormick Pkwy, Scottsdale, AZ 85258$Scottsdale$AZ\", 'Turf Direct$8350 E Evans Rd, Scottsdale, AZ 85260$Scottsdale$AZ']\n",
    "\n",
    "try: \n",
    "    FindBusinessBasedOnCity('Scottsdale', 'output_city.txt', data) \n",
    "except NameError as e: \n",
    "    print ('The FindBusinessBasedOnCity function is not defined! You must run the cell containing the function before running this evaluation cell.') \n",
    "except TypeError as e: \n",
    "    print(e) \n",
    "    print (\"The FindBusinessBasedOnCity function is supposed to accept three arguments. Yours does not!\") \n",
    "\n",
    "try: \n",
    "    opf = open('output_city.txt', 'r') \n",
    "except FileNotFoundError as e: \n",
    "    print (\"The FindBusinessBasedOnCity function does not write data to the correct location.\") \n",
    "\n",
    "lines = opf.readlines()\n",
    "if len(lines) != 5:\n",
    "    print (\"The FindBusinessBasedOnCity function does not find the correct number of results, should be 3.\") \n",
    "\n",
    "lines = [line.strip() for line in lines]\n",
    "if sorted(lines) == sorted(true_results):\n",
    "    print (\"Correct! You FindBusinessByCity function passes these test cases. This does not cover all possible test edge cases, however, so make sure that your function covers them before submitting!\")"
   ]
  },
  {
   "cell_type": "code",
   "execution_count": 6,
   "metadata": {},
   "outputs": [
    {
     "name": "stdout",
     "output_type": "stream",
     "text": [
      "Correct! You FindBusinessByCity function passes these test cases. This does not cover all possible test edge cases, however, so make sure that your function covers them before submitting!\n"
     ]
    }
   ],
   "source": [
    "# Additional test case 2\n",
    "\n",
    "true_results =['Arizona Exterminating Co.$521 E Broadway Rd, Mesa, AZ 85204$Mesa$AZ', 'Bikram Yoga$1940 W 8th St, Ste 111, Mesa, AZ 85202$Mesa$AZ', \"Denny's Restaurant$1330 S Power Rd, Mesa, AZ 85206$Mesa$AZ\", 'Diamondback Gymnastics$7211 E Southern Avenue, Mesa, AZ 85209$Mesa$AZ', 'Southeast Valley Medical Group$1950 S Country Club Dr, Mesa, AZ 85210$Mesa$AZ', 'Spa Pima$2150 S Power Rd, Mesa, AZ 85209$Mesa$AZ', 'The Seafood Market$1910 S Gilbert Rd, Mesa, AZ 85204$Mesa$AZ']\n",
    "\n",
    "try:\n",
    "    FindBusinessBasedOnCity('Mesa', 'output_city.txt', data) \n",
    "except NameError as e: \n",
    "    print ('The FindBusinessBasedOnCity function is not defined! You must run the cell containing the function before running this evaluation cell.') \n",
    "except TypeError as e: \n",
    "    print(e) \n",
    "    print (\"The FindBusinessBasedOnCity function is supposed to accept three arguments. Yours does not!\") \n",
    "\n",
    "try: \n",
    "    opf = open('output_city.txt', 'r') \n",
    "except FileNotFoundError as e: \n",
    "    print (\"The FindBusinessBasedOnCity function does not write data to the correct location.\") \n",
    "\n",
    "lines = opf.readlines()\n",
    "if len(lines) != 7:\n",
    "    print (\"The FindBusinessBasedOnCity function does not find the correct number of results, should be 3.\") \n",
    "\n",
    "lines = [line.strip() for line in lines]\n",
    "if sorted(lines) == sorted(true_results):\n",
    "    print (\"Correct! You FindBusinessByCity function passes these test cases. This does not cover all possible test edge cases, however, so make sure that your function covers them before submitting!\") "
   ]
  },
  {
   "cell_type": "code",
   "execution_count": 12,
   "metadata": {},
   "outputs": [
    {
     "name": "stdout",
     "output_type": "stream",
     "text": [
      "Correct! Your FindBusinessBasedOnLocation function passes these test cases. This does not cover all possible edge cases, so make sure your function does before submitting.\n"
     ]
    }
   ],
   "source": [
    "# Testing FindBusinessBasedOnLocation function\n",
    "\n",
    "true_results = [\"VinciTorio's Restaurant\"]\n",
    "\n",
    "try:\n",
    "    FindBusinessBasedOnLocation(['Buffets'], [33.3482589, -111.9088346], 10, 'output_loc.txt', data)\n",
    "except NameError as e: \n",
    "    print ('The FindBusinessBasedOnLocation function is not defined! You must run the cell containing the function before running this evaluation cell.')\n",
    "except TypeError as e:\n",
    "    print (\"The FindBusinessBasedOnLocation function is supposed to accept five arguments. Yours does not!\")\n",
    "    \n",
    "try:\n",
    "    opf = open('output_loc.txt','r')\n",
    "except FileNotFoundError as e:\n",
    "    print (\"The FindBusinessBasedOnLocation function does not write data to the correct location.\")\n",
    "\n",
    "lines = opf.readlines()\n",
    "if len(lines) != 1:\n",
    "    print (\"The FindBusinessBasedOnLocation function does not find the correct number of results, should be only 1.\")\n",
    "\n",
    "if lines[0].strip() == true_results[0]:\n",
    "    print (\"Correct! Your FindBusinessBasedOnLocation function passes these test cases. This does not cover all possible edge cases, so make sure your function does before submitting.\")"
   ]
  },
  {
   "cell_type": "code",
   "execution_count": 8,
   "metadata": {},
   "outputs": [
    {
     "name": "stdout",
     "output_type": "stream",
     "text": [
      "Correct! Your FindBusinessBasedOnLocation function passes these test cases. This does not cover all possible edge cases, so make sure your function does before submitting.\n"
     ]
    }
   ],
   "source": [
    "# Additional test case 1\n",
    "\n",
    "true_results =['The Seafood Market']\n",
    "\n",
    "try: \n",
    "    FindBusinessBasedOnLocation(['Specialty Food'], [33.3482589, -111.9088346], 10, 'output_loc.txt', data) \n",
    "except NameError as e: \n",
    "    print ('The FindBusinessBasedOnLocation function is not defined! You must run the cell containing the function before running this evaluation cell.') \n",
    "except TypeError as e: \n",
    "    print (\"The FindBusinessBasedOnLocation function is supposed to accept five arguments. Yours does not!\") \n",
    "\n",
    "try:\n",
    "    opf = open('output_loc.txt','r') \n",
    "except FileNotFoundError as e: \n",
    "    print (\"The FindBusinessBasedOnLocation function does not write data to the correct location.\") \n",
    "\n",
    "lines = opf.readlines()\n",
    "if len(lines) != 1:\n",
    "    print (\"The FindBusinessBasedOnLocation function does not find the correct number of results, should be only 1.\") \n",
    "\n",
    "lines = [line.strip() for line in lines]\n",
    "if sorted(lines) == sorted(true_results):\n",
    "    print (\"Correct! Your FindBusinessBasedOnLocation function passes these test cases. This does not cover all possible edge cases, so make sure your function does before submitting.\")"
   ]
  },
  {
   "cell_type": "code",
   "execution_count": 9,
   "metadata": {},
   "outputs": [
    {
     "name": "stdout",
     "output_type": "stream",
     "text": [
      "Correct! Your FindBusinessBasedOnLocation function passes these test cases. This does not cover all possible edge cases, so make sure your function does before submitting.\n"
     ]
    }
   ],
   "source": [
    "# Additional test case 2\n",
    "\n",
    "true_results = ['P.croissants'] \n",
    "\n",
    "try: \n",
    "    FindBusinessBasedOnLocation(['Bakeries'], [33.3482589, -111.9088346], 10, 'output_loc.txt', data) \n",
    "except NameError as e: \n",
    "    print ('The FindBusinessBasedOnLocation function is not defined! You must run the cell containing the function before running this evaluation cell.') \n",
    "except TypeError as e: \n",
    "    print (\"The FindBusinessBasedOnLocation function is supposed to accept five arguments. Yours does not!\")\n",
    "\n",
    "try: \n",
    "    opf = open('output_loc.txt','r') \n",
    "except FileNotFoundError as e: \n",
    "    print (\"The FindBusinessBasedOnLocation function does not write data to the correct location.\")\n",
    "\n",
    "lines = opf.readlines()\n",
    "if len(lines) != 1: \n",
    "    print (\"The FindBusinessBasedOnLocation function does not find the correct number of results, should be only 1.\")\n",
    "\n",
    "lines = [line.strip() for line in lines]\n",
    "if sorted(lines) == sorted(true_results): \n",
    "    print (\"Correct! Your FindBusinessBasedOnLocation function passes these test cases. This does not cover all possible edge cases, so make sure your function does before submitting.\")"
   ]
  },
  {
   "cell_type": "code",
   "execution_count": 10,
   "metadata": {},
   "outputs": [
    {
     "name": "stdout",
     "output_type": "stream",
     "text": [
      "Correct! Your FindBusinessBasedOnLocation function passes these test cases. This does not cover all possible edge cases, so make sure your function does before submitting.\n"
     ]
    }
   ],
   "source": [
    "# Additional test case 3\n",
    "\n",
    "true_results = ['The Seafood Market', 'P.croissants']\n",
    "\n",
    "try: \n",
    "    FindBusinessBasedOnLocation(['Food', 'Specialty Food'], [33.3482589, -111.9088346], 10, 'output_loc.txt', data) \n",
    "except NameError as e: \n",
    "    print ('The FindBusinessBasedOnLocation function is not defined! You must run the cell containing the function before running this evaluation cell.') \n",
    "except TypeError as e: \n",
    "    print (\"The FindBusinessBasedOnLocation function is supposed to accept five arguments. Yours does not!\")\n",
    "\n",
    "try: \n",
    "    opf = open('output_loc.txt','r') \n",
    "except FileNotFoundError as e: \n",
    "    print (\"The FindBusinessBasedOnLocation function does not write data to the correct location.\")\n",
    "\n",
    "lines = opf.readlines()\n",
    "if len(lines) != 2: \n",
    "    print (\"The FindBusinessBasedOnLocation function does not find the correct number of results, should be only 2.\")\n",
    "\n",
    "lines = [line.strip() for line in lines]\n",
    "if sorted(lines) == sorted(true_results): \n",
    "    print (\"Correct! Your FindBusinessBasedOnLocation function passes these test cases. This does not cover all possible edge cases, so make sure your function does before submitting.\")"
   ]
  },
  {
   "cell_type": "code",
   "execution_count": null,
   "metadata": {},
   "outputs": [],
   "source": []
  }
 ],
 "metadata": {
  "kernelspec": {
   "display_name": "Python 3 (ipykernel)",
   "language": "python",
   "name": "python3"
  },
  "language_info": {
   "codemirror_mode": {
    "name": "ipython",
    "version": 3
   },
   "file_extension": ".py",
   "mimetype": "text/x-python",
   "name": "python",
   "nbconvert_exporter": "python",
   "pygments_lexer": "ipython3",
   "version": "3.11.1"
  }
 },
 "nbformat": 4,
 "nbformat_minor": 4
}
